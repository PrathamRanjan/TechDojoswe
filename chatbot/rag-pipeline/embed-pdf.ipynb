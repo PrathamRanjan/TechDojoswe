{
 "cells": [
  {
   "cell_type": "code",
   "execution_count": null,
   "id": "8cc89352",
   "metadata": {},
   "outputs": [],
   "source": [
    "!pip3 install -r requirements.txt"
   ]
  },
  {
   "cell_type": "code",
   "execution_count": null,
   "id": "615beb07",
   "metadata": {},
   "outputs": [],
   "source": [
    "from pinecone import Pinecone\n",
    "from langchain.document_loaders import DirectoryLoader, PyPDFLoader\n",
    "from langchain.text_splitter import RecursiveCharacterTextSplitter\n",
    "from langchain_pinecone import PineconeVectorStore\n",
    "from langchain_openai import OpenAIEmbeddings\n"
   ]
  },
  {
   "cell_type": "code",
   "execution_count": null,
   "id": "a918cd6d",
   "metadata": {},
   "outputs": [],
   "source": [
    "embeddings = OpenAIEmbeddings(model=\"text-embedding-3-small\", dimensions=512)"
   ]
  },
  {
   "cell_type": "markdown",
   "id": "d111a992",
   "metadata": {},
   "source": [
    "# RAG Pipeline\n",
    "Takes the documents from data/pdf folder and chunks and stores them in Pinecone DB\n"
   ]
  },
  {
   "cell_type": "code",
   "execution_count": null,
   "id": "2885220c",
   "metadata": {},
   "outputs": [],
   "source": [
    "import re\n",
    "\n",
    "def clean_text(text):\n",
    "    \"\"\"Clean text to remove invalid Unicode characters\"\"\"\n",
    "    # Remove or replace problematic Unicode characters\n",
    "    text = re.sub(r'[\\ud800-\\udfff]', '', text)  # Remove surrogates\n",
    "    text = re.sub(r'[^\\x00-\\x7F\\u00A0-\\uFFFF]', '', text)  # Keep only valid Unicode\n",
    "    text = text.encode('utf-8', errors='ignore').decode('utf-8')  # Clean encoding\n",
    "    return text.strip()\n",
    "\n",
    "text_splitter = RecursiveCharacterTextSplitter(chunk_size=1000, chunk_overlap=200)\n",
    "\n",
    "# Load all PDFs\n",
    "loader = DirectoryLoader(\"./data/pdf\", glob=\"**/*.pdf\", loader_cls=PyPDFLoader)\n",
    "documents = loader.load()\n",
    "\n",
    "# Clean and add metadata\n",
    "for doc in documents:\n",
    "    filename = doc.metadata['source'].split('/')[-1]\n",
    "    doc.metadata['book_title'] = filename.replace('.pdf', '')\n",
    "    # Clean the page content\n",
    "    doc.page_content = clean_text(doc.page_content)\n",
    "\n",
    "# Split documents into chunks\n",
    "chunks = text_splitter.split_documents(documents)\n",
    "\n",
    "# Additional cleaning for chunks\n",
    "for chunk in chunks:\n",
    "    chunk.page_content = clean_text(chunk.page_content)\n",
    "\n",
    "# Filter out empty chunks\n",
    "chunks = [chunk for chunk in chunks if chunk.page_content.strip()]\n",
    "\n",
    "# Create vector store and add documents\n",
    "vector_store = PineconeVectorStore(index=index, embedding=embeddings)\n",
    "vector_store.add_documents(documents=chunks)\n",
    "\n",
    "print(f\"Successfully embedded {len(chunks)} chunks from {len(documents)} pages\")"
   ]
  },
  {
   "cell_type": "markdown",
   "id": "16149613",
   "metadata": {},
   "source": [
    "# Fetching the RAG response\n",
    "\n",
    "Gets the appropriate chunks from the vector store and returns response with citations\n"
   ]
  },
  {
   "cell_type": "code",
   "execution_count": null,
   "id": "acb30ca4",
   "metadata": {},
   "outputs": [],
   "source": [
    "# RAG Query System\n",
    "from langchain.chat_models import ChatOpenAI\n",
    "from langchain.chains import RetrievalQA\n",
    "from langchain.prompts import PromptTemplate\n",
    "\n",
    "# Initialize the LLM\n",
    "llm = ChatOpenAI(model=\"gpt-5\", temperature = 1)\n",
    "\n",
    "# Create a retriever from the vector store\n",
    "retriever = vector_store.as_retriever(\n",
    "    search_type=\"similarity\",\n",
    "    search_kwargs={\"k\": 3}  # Retrieve top 3 most similar chunks\n",
    ")\n",
    "\n",
    "def fetch_rag_response(llm, retriever, query):  \n",
    "    # Create a custom prompt template\n",
    "    prompt_template = \"\"\"Use the following pieces of context to answer the question at the end. \n",
    "    If you don't know the answer, just say that you don't know, don't try to make up an answer.\n",
    "\n",
    "    Context:\n",
    "    {context}\n",
    "\n",
    "    Question: {question}\n",
    "    Answer:\"\"\"\n",
    "\n",
    "    PROMPT = PromptTemplate(\n",
    "        template=prompt_template, \n",
    "        input_variables=[\"context\", \"question\"]\n",
    "    )\n",
    "\n",
    "    # Create the RAG chain\n",
    "    qa_chain = RetrievalQA.from_chain_type(\n",
    "        llm=llm,\n",
    "        chain_type=\"stuff\",\n",
    "        retriever=retriever,\n",
    "        return_source_documents=True,\n",
    "        chain_type_kwargs={\"prompt\": PROMPT}\n",
    "    )\n",
    "\n",
    "    # Example query\n",
    "    result = qa_chain({\"query\": query})\n",
    "\n",
    "    return result\n",
    "\n",
    "query = \"How to design a Designing a URL Shortening service like TinyURL?\"\n",
    "result = fetch_rag_response(llm, retriever, query)\n",
    "\n",
    "print(f\"Question: {query}\")\n",
    "print(f\"\\nAnswer: {result['result']}\")\n",
    "print(f\"\\nSource documents:\")\n",
    "for i, doc in enumerate(result['source_documents']):\n",
    "    print(f\"{i+1}. {doc.metadata['book_title']} - Page {doc.metadata.get('page', 'N/A')}\")\n",
    "    print(f\"   Content: {doc.page_content[:150]}...\")\n",
    "    print()"
   ]
  },
  {
   "cell_type": "code",
   "execution_count": null,
   "id": "2e5314dc",
   "metadata": {},
   "outputs": [],
   "source": []
  }
 ],
 "metadata": {
  "kernelspec": {
   "display_name": ".venv",
   "language": "python",
   "name": "python3"
  },
  "language_info": {
   "codemirror_mode": {
    "name": "ipython",
    "version": 3
   },
   "file_extension": ".py",
   "mimetype": "text/x-python",
   "name": "python",
   "nbconvert_exporter": "python",
   "pygments_lexer": "ipython3",
   "version": "3.13.3"
  }
 },
 "nbformat": 4,
 "nbformat_minor": 5
}
